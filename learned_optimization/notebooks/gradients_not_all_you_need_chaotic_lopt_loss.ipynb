{
  "nbformat": 4,
  "nbformat_minor": 0,
  "metadata": {
    "colab": {
      "name": "Lopt chaotic gradients ",
      "provenance": []
    },
    "kernelspec": {
      "name": "python3",
      "display_name": "Python 3"
    },
    "language_info": {
      "name": "python"
    },
    "accelerator": "GPU",
    "widgets": {
      "application/vnd.jupyter.widget-state+json": {
        "fb1318f685fa434cbd6a3eee8236f489": {
          "model_module": "@jupyter-widgets/controls",
          "model_name": "HBoxModel",
          "model_module_version": "1.5.0",
          "state": {
            "_dom_classes": [],
            "_model_module": "@jupyter-widgets/controls",
            "_model_module_version": "1.5.0",
            "_model_name": "HBoxModel",
            "_view_count": null,
            "_view_module": "@jupyter-widgets/controls",
            "_view_module_version": "1.5.0",
            "_view_name": "HBoxView",
            "box_style": "",
            "children": [
              "IPY_MODEL_24b6b2ab0c784e56a5461239c8888c18",
              "IPY_MODEL_1885467e90814cd9a744afb6e346e32a",
              "IPY_MODEL_0fd8007986af4ade8fe068905ac37dd9"
            ],
            "layout": "IPY_MODEL_f240c6b4be7c44a9b72a253f61e987dc"
          }
        },
        "24b6b2ab0c784e56a5461239c8888c18": {
          "model_module": "@jupyter-widgets/controls",
          "model_name": "HTMLModel",
          "model_module_version": "1.5.0",
          "state": {
            "_dom_classes": [],
            "_model_module": "@jupyter-widgets/controls",
            "_model_module_version": "1.5.0",
            "_model_name": "HTMLModel",
            "_view_count": null,
            "_view_module": "@jupyter-widgets/controls",
            "_view_module_version": "1.5.0",
            "_view_name": "HTMLView",
            "description": "",
            "description_tooltip": null,
            "layout": "IPY_MODEL_0b189b77614d47e0b4bef127db76761f",
            "placeholder": "​",
            "style": "IPY_MODEL_d5e393ff5c2d456593292f7b86e09d52",
            "value": "Dl Completed...: 100%"
          }
        },
        "1885467e90814cd9a744afb6e346e32a": {
          "model_module": "@jupyter-widgets/controls",
          "model_name": "FloatProgressModel",
          "model_module_version": "1.5.0",
          "state": {
            "_dom_classes": [],
            "_model_module": "@jupyter-widgets/controls",
            "_model_module_version": "1.5.0",
            "_model_name": "FloatProgressModel",
            "_view_count": null,
            "_view_module": "@jupyter-widgets/controls",
            "_view_module_version": "1.5.0",
            "_view_name": "ProgressView",
            "bar_style": "success",
            "description": "",
            "description_tooltip": null,
            "layout": "IPY_MODEL_61b0413ffc1f4e478a72a75e665a27cf",
            "max": 4,
            "min": 0,
            "orientation": "horizontal",
            "style": "IPY_MODEL_babc2481eb9c4b4996a040ec1a2b1a78",
            "value": 4
          }
        },
        "0fd8007986af4ade8fe068905ac37dd9": {
          "model_module": "@jupyter-widgets/controls",
          "model_name": "HTMLModel",
          "model_module_version": "1.5.0",
          "state": {
            "_dom_classes": [],
            "_model_module": "@jupyter-widgets/controls",
            "_model_module_version": "1.5.0",
            "_model_name": "HTMLModel",
            "_view_count": null,
            "_view_module": "@jupyter-widgets/controls",
            "_view_module_version": "1.5.0",
            "_view_name": "HTMLView",
            "description": "",
            "description_tooltip": null,
            "layout": "IPY_MODEL_781d4431f1df4b74b5e1774193ab1ef9",
            "placeholder": "​",
            "style": "IPY_MODEL_0302e328b9d44e48b532e48b9fd18a87",
            "value": " 4/4 [00:00&lt;00:00, 10.97 file/s]"
          }
        },
        "f240c6b4be7c44a9b72a253f61e987dc": {
          "model_module": "@jupyter-widgets/base",
          "model_name": "LayoutModel",
          "model_module_version": "1.2.0",
          "state": {
            "_model_module": "@jupyter-widgets/base",
            "_model_module_version": "1.2.0",
            "_model_name": "LayoutModel",
            "_view_count": null,
            "_view_module": "@jupyter-widgets/base",
            "_view_module_version": "1.2.0",
            "_view_name": "LayoutView",
            "align_content": null,
            "align_items": null,
            "align_self": null,
            "border": null,
            "bottom": null,
            "display": null,
            "flex": null,
            "flex_flow": null,
            "grid_area": null,
            "grid_auto_columns": null,
            "grid_auto_flow": null,
            "grid_auto_rows": null,
            "grid_column": null,
            "grid_gap": null,
            "grid_row": null,
            "grid_template_areas": null,
            "grid_template_columns": null,
            "grid_template_rows": null,
            "height": null,
            "justify_content": null,
            "justify_items": null,
            "left": null,
            "margin": null,
            "max_height": null,
            "max_width": null,
            "min_height": null,
            "min_width": null,
            "object_fit": null,
            "object_position": null,
            "order": null,
            "overflow": null,
            "overflow_x": null,
            "overflow_y": null,
            "padding": null,
            "right": null,
            "top": null,
            "visibility": null,
            "width": null
          }
        },
        "0b189b77614d47e0b4bef127db76761f": {
          "model_module": "@jupyter-widgets/base",
          "model_name": "LayoutModel",
          "model_module_version": "1.2.0",
          "state": {
            "_model_module": "@jupyter-widgets/base",
            "_model_module_version": "1.2.0",
            "_model_name": "LayoutModel",
            "_view_count": null,
            "_view_module": "@jupyter-widgets/base",
            "_view_module_version": "1.2.0",
            "_view_name": "LayoutView",
            "align_content": null,
            "align_items": null,
            "align_self": null,
            "border": null,
            "bottom": null,
            "display": null,
            "flex": null,
            "flex_flow": null,
            "grid_area": null,
            "grid_auto_columns": null,
            "grid_auto_flow": null,
            "grid_auto_rows": null,
            "grid_column": null,
            "grid_gap": null,
            "grid_row": null,
            "grid_template_areas": null,
            "grid_template_columns": null,
            "grid_template_rows": null,
            "height": null,
            "justify_content": null,
            "justify_items": null,
            "left": null,
            "margin": null,
            "max_height": null,
            "max_width": null,
            "min_height": null,
            "min_width": null,
            "object_fit": null,
            "object_position": null,
            "order": null,
            "overflow": null,
            "overflow_x": null,
            "overflow_y": null,
            "padding": null,
            "right": null,
            "top": null,
            "visibility": null,
            "width": null
          }
        },
        "d5e393ff5c2d456593292f7b86e09d52": {
          "model_module": "@jupyter-widgets/controls",
          "model_name": "DescriptionStyleModel",
          "model_module_version": "1.5.0",
          "state": {
            "_model_module": "@jupyter-widgets/controls",
            "_model_module_version": "1.5.0",
            "_model_name": "DescriptionStyleModel",
            "_view_count": null,
            "_view_module": "@jupyter-widgets/base",
            "_view_module_version": "1.2.0",
            "_view_name": "StyleView",
            "description_width": ""
          }
        },
        "61b0413ffc1f4e478a72a75e665a27cf": {
          "model_module": "@jupyter-widgets/base",
          "model_name": "LayoutModel",
          "model_module_version": "1.2.0",
          "state": {
            "_model_module": "@jupyter-widgets/base",
            "_model_module_version": "1.2.0",
            "_model_name": "LayoutModel",
            "_view_count": null,
            "_view_module": "@jupyter-widgets/base",
            "_view_module_version": "1.2.0",
            "_view_name": "LayoutView",
            "align_content": null,
            "align_items": null,
            "align_self": null,
            "border": null,
            "bottom": null,
            "display": null,
            "flex": null,
            "flex_flow": null,
            "grid_area": null,
            "grid_auto_columns": null,
            "grid_auto_flow": null,
            "grid_auto_rows": null,
            "grid_column": null,
            "grid_gap": null,
            "grid_row": null,
            "grid_template_areas": null,
            "grid_template_columns": null,
            "grid_template_rows": null,
            "height": null,
            "justify_content": null,
            "justify_items": null,
            "left": null,
            "margin": null,
            "max_height": null,
            "max_width": null,
            "min_height": null,
            "min_width": null,
            "object_fit": null,
            "object_position": null,
            "order": null,
            "overflow": null,
            "overflow_x": null,
            "overflow_y": null,
            "padding": null,
            "right": null,
            "top": null,
            "visibility": null,
            "width": null
          }
        },
        "babc2481eb9c4b4996a040ec1a2b1a78": {
          "model_module": "@jupyter-widgets/controls",
          "model_name": "ProgressStyleModel",
          "model_module_version": "1.5.0",
          "state": {
            "_model_module": "@jupyter-widgets/controls",
            "_model_module_version": "1.5.0",
            "_model_name": "ProgressStyleModel",
            "_view_count": null,
            "_view_module": "@jupyter-widgets/base",
            "_view_module_version": "1.2.0",
            "_view_name": "StyleView",
            "bar_color": null,
            "description_width": ""
          }
        },
        "781d4431f1df4b74b5e1774193ab1ef9": {
          "model_module": "@jupyter-widgets/base",
          "model_name": "LayoutModel",
          "model_module_version": "1.2.0",
          "state": {
            "_model_module": "@jupyter-widgets/base",
            "_model_module_version": "1.2.0",
            "_model_name": "LayoutModel",
            "_view_count": null,
            "_view_module": "@jupyter-widgets/base",
            "_view_module_version": "1.2.0",
            "_view_name": "LayoutView",
            "align_content": null,
            "align_items": null,
            "align_self": null,
            "border": null,
            "bottom": null,
            "display": null,
            "flex": null,
            "flex_flow": null,
            "grid_area": null,
            "grid_auto_columns": null,
            "grid_auto_flow": null,
            "grid_auto_rows": null,
            "grid_column": null,
            "grid_gap": null,
            "grid_row": null,
            "grid_template_areas": null,
            "grid_template_columns": null,
            "grid_template_rows": null,
            "height": null,
            "justify_content": null,
            "justify_items": null,
            "left": null,
            "margin": null,
            "max_height": null,
            "max_width": null,
            "min_height": null,
            "min_width": null,
            "object_fit": null,
            "object_position": null,
            "order": null,
            "overflow": null,
            "overflow_x": null,
            "overflow_y": null,
            "padding": null,
            "right": null,
            "top": null,
            "visibility": null,
            "width": null
          }
        },
        "0302e328b9d44e48b532e48b9fd18a87": {
          "model_module": "@jupyter-widgets/controls",
          "model_name": "DescriptionStyleModel",
          "model_module_version": "1.5.0",
          "state": {
            "_model_module": "@jupyter-widgets/controls",
            "_model_module_version": "1.5.0",
            "_model_name": "DescriptionStyleModel",
            "_view_count": null,
            "_view_module": "@jupyter-widgets/base",
            "_view_module_version": "1.2.0",
            "_view_name": "StyleView",
            "description_width": ""
          }
        }
      }
    }
  },
  "cells": [
    {
      "cell_type": "markdown",
      "source": [
        "In this notebook we demo a situation where chaotic gradients emerge. \n",
        "\n",
        "This is the same setup as used in figure 3 of https://arxiv.org/abs/2111.05803."
      ],
      "metadata": {
        "id": "VtTVlxYRHlWV"
      }
    },
    {
      "cell_type": "code",
      "source": [
        "!pip install git+https://github.com/google/learned_optimization.git"
      ],
      "metadata": {
        "colab": {
          "base_uri": "https://localhost:8080/"
        },
        "id": "BnUJJQ3C-NWr",
        "outputId": "41c69829-5223-4a3a-8fc7-297fa401cbb3"
      },
      "execution_count": 1,
      "outputs": [
        {
          "output_type": "stream",
          "name": "stdout",
          "text": [
            "Collecting git+https://github.com/google/learned_optimization.git\n",
            "  Cloning https://github.com/google/learned_optimization.git to /tmp/pip-req-build-q4w2_84g\n",
            "  Running command git clone -q https://github.com/google/learned_optimization.git /tmp/pip-req-build-q4w2_84g\n",
            "Collecting absl-py==0.12.0\n",
            "  Downloading absl_py-0.12.0-py3-none-any.whl (129 kB)\n",
            "\u001b[K     |████████████████████████████████| 129 kB 5.1 MB/s \n",
            "\u001b[?25hRequirement already satisfied: numpy>=1.18 in /usr/local/lib/python3.7/dist-packages (from learned-optimization==0.0.1) (1.21.5)\n",
            "Requirement already satisfied: jax>=0.2.6 in /usr/local/lib/python3.7/dist-packages (from learned-optimization==0.0.1) (0.3.4)\n",
            "Requirement already satisfied: jaxlib>=0.1.68 in /usr/local/lib/python3.7/dist-packages (from learned-optimization==0.0.1) (0.3.2+cuda11.cudnn805)\n",
            "Collecting nose\n",
            "  Downloading nose-1.3.7-py3-none-any.whl (154 kB)\n",
            "\u001b[K     |████████████████████████████████| 154 kB 35.7 MB/s \n",
            "\u001b[?25hCollecting dm-launchpad-nightly==0.3.0.dev20211105\n",
            "  Downloading dm_launchpad_nightly-0.3.0.dev20211105-cp37-cp37m-manylinux2010_x86_64.whl (3.8 MB)\n",
            "\u001b[K     |████████████████████████████████| 3.8 MB 53.7 MB/s \n",
            "\u001b[?25hRequirement already satisfied: tqdm>=4.62.3 in /usr/local/lib/python3.7/dist-packages (from learned-optimization==0.0.1) (4.63.0)\n",
            "Collecting flax==0.3.3\n",
            "  Downloading flax-0.3.3-py3-none-any.whl (179 kB)\n",
            "\u001b[K     |████████████████████████████████| 179 kB 69.5 MB/s \n",
            "\u001b[?25hCollecting dm-haiku==0.0.5\n",
            "  Downloading dm_haiku-0.0.5-py3-none-any.whl (287 kB)\n",
            "\u001b[K     |████████████████████████████████| 287 kB 67.5 MB/s \n",
            "\u001b[?25hCollecting optax>=0.0.9\n",
            "  Downloading optax-0.1.1-py3-none-any.whl (136 kB)\n",
            "\u001b[K     |████████████████████████████████| 136 kB 76.4 MB/s \n",
            "\u001b[?25hRequirement already satisfied: tensorflow>=2.7.0 in /usr/local/lib/python3.7/dist-packages (from learned-optimization==0.0.1) (2.8.0)\n",
            "Collecting tensorflow-datasets>=4.4.0\n",
            "  Downloading tensorflow_datasets-4.5.2-py3-none-any.whl (4.2 MB)\n",
            "\u001b[K     |████████████████████████████████| 4.2 MB 51.1 MB/s \n",
            "\u001b[?25hCollecting tensorflow-metadata==1.5.0\n",
            "  Downloading tensorflow_metadata-1.5.0-py3-none-any.whl (48 kB)\n",
            "\u001b[K     |████████████████████████████████| 48 kB 6.5 MB/s \n",
            "\u001b[?25hRequirement already satisfied: tensorboard>=2.7.0 in /usr/local/lib/python3.7/dist-packages (from learned-optimization==0.0.1) (2.8.0)\n",
            "Requirement already satisfied: gin-config>=0.5.0 in /usr/local/lib/python3.7/dist-packages (from learned-optimization==0.0.1) (0.5.0)\n",
            "Requirement already satisfied: six in /usr/local/lib/python3.7/dist-packages (from absl-py==0.12.0->learned-optimization==0.0.1) (1.15.0)\n",
            "Requirement already satisfied: tabulate>=0.8.9 in /usr/local/lib/python3.7/dist-packages (from dm-haiku==0.0.5->learned-optimization==0.0.1) (0.8.9)\n",
            "Requirement already satisfied: typing-extensions in /usr/local/lib/python3.7/dist-packages (from dm-haiku==0.0.5->learned-optimization==0.0.1) (3.10.0.2)\n",
            "Collecting jmp>=0.0.2\n",
            "  Downloading jmp-0.0.2-py3-none-any.whl (16 kB)\n",
            "Requirement already satisfied: psutil in /usr/local/lib/python3.7/dist-packages (from dm-launchpad-nightly==0.3.0.dev20211105->learned-optimization==0.0.1) (5.4.8)\n",
            "Requirement already satisfied: portpicker in /usr/local/lib/python3.7/dist-packages (from dm-launchpad-nightly==0.3.0.dev20211105->learned-optimization==0.0.1) (1.3.9)\n",
            "Requirement already satisfied: dm-tree in /usr/local/lib/python3.7/dist-packages (from dm-launchpad-nightly==0.3.0.dev20211105->learned-optimization==0.0.1) (0.1.6)\n",
            "Requirement already satisfied: protobuf in /usr/local/lib/python3.7/dist-packages (from dm-launchpad-nightly==0.3.0.dev20211105->learned-optimization==0.0.1) (3.17.3)\n",
            "Collecting mock\n",
            "  Downloading mock-4.0.3-py3-none-any.whl (28 kB)\n",
            "Requirement already satisfied: cloudpickle in /usr/local/lib/python3.7/dist-packages (from dm-launchpad-nightly==0.3.0.dev20211105->learned-optimization==0.0.1) (1.3.0)\n",
            "Requirement already satisfied: termcolor in /usr/local/lib/python3.7/dist-packages (from dm-launchpad-nightly==0.3.0.dev20211105->learned-optimization==0.0.1) (1.1.0)\n",
            "Requirement already satisfied: grpcio in /usr/local/lib/python3.7/dist-packages (from dm-launchpad-nightly==0.3.0.dev20211105->learned-optimization==0.0.1) (1.44.0)\n",
            "Requirement already satisfied: matplotlib in /usr/local/lib/python3.7/dist-packages (from flax==0.3.3->learned-optimization==0.0.1) (3.2.2)\n",
            "Requirement already satisfied: msgpack in /usr/local/lib/python3.7/dist-packages (from flax==0.3.3->learned-optimization==0.0.1) (1.0.3)\n",
            "Requirement already satisfied: googleapis-common-protos<2,>=1.52.0 in /usr/local/lib/python3.7/dist-packages (from tensorflow-metadata==1.5.0->learned-optimization==0.0.1) (1.56.0)\n",
            "Requirement already satisfied: opt-einsum in /usr/local/lib/python3.7/dist-packages (from jax>=0.2.6->learned-optimization==0.0.1) (3.3.0)\n",
            "Requirement already satisfied: scipy>=1.2.1 in /usr/local/lib/python3.7/dist-packages (from jax>=0.2.6->learned-optimization==0.0.1) (1.4.1)\n",
            "Requirement already satisfied: flatbuffers<3.0,>=1.12 in /usr/local/lib/python3.7/dist-packages (from jaxlib>=0.1.68->learned-optimization==0.0.1) (2.0)\n",
            "Collecting chex>=0.0.4\n",
            "  Downloading chex-0.1.1-py3-none-any.whl (70 kB)\n",
            "\u001b[K     |████████████████████████████████| 70 kB 8.8 MB/s \n",
            "\u001b[?25hRequirement already satisfied: toolz>=0.9.0 in /usr/local/lib/python3.7/dist-packages (from chex>=0.0.4->optax>=0.0.9->learned-optimization==0.0.1) (0.11.2)\n",
            "Requirement already satisfied: google-auth-oauthlib<0.5,>=0.4.1 in /usr/local/lib/python3.7/dist-packages (from tensorboard>=2.7.0->learned-optimization==0.0.1) (0.4.6)\n",
            "Requirement already satisfied: google-auth<3,>=1.6.3 in /usr/local/lib/python3.7/dist-packages (from tensorboard>=2.7.0->learned-optimization==0.0.1) (1.35.0)\n",
            "Requirement already satisfied: wheel>=0.26 in /usr/local/lib/python3.7/dist-packages (from tensorboard>=2.7.0->learned-optimization==0.0.1) (0.37.1)\n",
            "Requirement already satisfied: markdown>=2.6.8 in /usr/local/lib/python3.7/dist-packages (from tensorboard>=2.7.0->learned-optimization==0.0.1) (3.3.6)\n",
            "Requirement already satisfied: requests<3,>=2.21.0 in /usr/local/lib/python3.7/dist-packages (from tensorboard>=2.7.0->learned-optimization==0.0.1) (2.23.0)\n",
            "Requirement already satisfied: tensorboard-plugin-wit>=1.6.0 in /usr/local/lib/python3.7/dist-packages (from tensorboard>=2.7.0->learned-optimization==0.0.1) (1.8.1)\n",
            "Requirement already satisfied: werkzeug>=0.11.15 in /usr/local/lib/python3.7/dist-packages (from tensorboard>=2.7.0->learned-optimization==0.0.1) (1.0.1)\n",
            "Requirement already satisfied: tensorboard-data-server<0.7.0,>=0.6.0 in /usr/local/lib/python3.7/dist-packages (from tensorboard>=2.7.0->learned-optimization==0.0.1) (0.6.1)\n",
            "Requirement already satisfied: setuptools>=41.0.0 in /usr/local/lib/python3.7/dist-packages (from tensorboard>=2.7.0->learned-optimization==0.0.1) (57.4.0)\n",
            "Requirement already satisfied: cachetools<5.0,>=2.0.0 in /usr/local/lib/python3.7/dist-packages (from google-auth<3,>=1.6.3->tensorboard>=2.7.0->learned-optimization==0.0.1) (4.2.4)\n",
            "Requirement already satisfied: rsa<5,>=3.1.4 in /usr/local/lib/python3.7/dist-packages (from google-auth<3,>=1.6.3->tensorboard>=2.7.0->learned-optimization==0.0.1) (4.8)\n",
            "Requirement already satisfied: pyasn1-modules>=0.2.1 in /usr/local/lib/python3.7/dist-packages (from google-auth<3,>=1.6.3->tensorboard>=2.7.0->learned-optimization==0.0.1) (0.2.8)\n",
            "Requirement already satisfied: requests-oauthlib>=0.7.0 in /usr/local/lib/python3.7/dist-packages (from google-auth-oauthlib<0.5,>=0.4.1->tensorboard>=2.7.0->learned-optimization==0.0.1) (1.3.1)\n",
            "Requirement already satisfied: importlib-metadata>=4.4 in /usr/local/lib/python3.7/dist-packages (from markdown>=2.6.8->tensorboard>=2.7.0->learned-optimization==0.0.1) (4.11.3)\n",
            "Requirement already satisfied: zipp>=0.5 in /usr/local/lib/python3.7/dist-packages (from importlib-metadata>=4.4->markdown>=2.6.8->tensorboard>=2.7.0->learned-optimization==0.0.1) (3.7.0)\n",
            "Requirement already satisfied: pyasn1<0.5.0,>=0.4.6 in /usr/local/lib/python3.7/dist-packages (from pyasn1-modules>=0.2.1->google-auth<3,>=1.6.3->tensorboard>=2.7.0->learned-optimization==0.0.1) (0.4.8)\n",
            "Requirement already satisfied: idna<3,>=2.5 in /usr/local/lib/python3.7/dist-packages (from requests<3,>=2.21.0->tensorboard>=2.7.0->learned-optimization==0.0.1) (2.10)\n",
            "Requirement already satisfied: chardet<4,>=3.0.2 in /usr/local/lib/python3.7/dist-packages (from requests<3,>=2.21.0->tensorboard>=2.7.0->learned-optimization==0.0.1) (3.0.4)\n",
            "Requirement already satisfied: certifi>=2017.4.17 in /usr/local/lib/python3.7/dist-packages (from requests<3,>=2.21.0->tensorboard>=2.7.0->learned-optimization==0.0.1) (2021.10.8)\n",
            "Requirement already satisfied: urllib3!=1.25.0,!=1.25.1,<1.26,>=1.21.1 in /usr/local/lib/python3.7/dist-packages (from requests<3,>=2.21.0->tensorboard>=2.7.0->learned-optimization==0.0.1) (1.24.3)\n",
            "Requirement already satisfied: oauthlib>=3.0.0 in /usr/local/lib/python3.7/dist-packages (from requests-oauthlib>=0.7.0->google-auth-oauthlib<0.5,>=0.4.1->tensorboard>=2.7.0->learned-optimization==0.0.1) (3.2.0)\n",
            "Requirement already satisfied: astunparse>=1.6.0 in /usr/local/lib/python3.7/dist-packages (from tensorflow>=2.7.0->learned-optimization==0.0.1) (1.6.3)\n",
            "Requirement already satisfied: wrapt>=1.11.0 in /usr/local/lib/python3.7/dist-packages (from tensorflow>=2.7.0->learned-optimization==0.0.1) (1.14.0)\n",
            "Requirement already satisfied: keras-preprocessing>=1.1.1 in /usr/local/lib/python3.7/dist-packages (from tensorflow>=2.7.0->learned-optimization==0.0.1) (1.1.2)\n",
            "Requirement already satisfied: h5py>=2.9.0 in /usr/local/lib/python3.7/dist-packages (from tensorflow>=2.7.0->learned-optimization==0.0.1) (3.1.0)\n",
            "Requirement already satisfied: google-pasta>=0.1.1 in /usr/local/lib/python3.7/dist-packages (from tensorflow>=2.7.0->learned-optimization==0.0.1) (0.2.0)\n",
            "Collecting tf-estimator-nightly==2.8.0.dev2021122109\n",
            "  Downloading tf_estimator_nightly-2.8.0.dev2021122109-py2.py3-none-any.whl (462 kB)\n",
            "\u001b[K     |████████████████████████████████| 462 kB 67.6 MB/s \n",
            "\u001b[?25hRequirement already satisfied: keras<2.9,>=2.8.0rc0 in /usr/local/lib/python3.7/dist-packages (from tensorflow>=2.7.0->learned-optimization==0.0.1) (2.8.0)\n",
            "Requirement already satisfied: gast>=0.2.1 in /usr/local/lib/python3.7/dist-packages (from tensorflow>=2.7.0->learned-optimization==0.0.1) (0.5.3)\n",
            "Requirement already satisfied: tensorflow-io-gcs-filesystem>=0.23.1 in /usr/local/lib/python3.7/dist-packages (from tensorflow>=2.7.0->learned-optimization==0.0.1) (0.24.0)\n",
            "Requirement already satisfied: libclang>=9.0.1 in /usr/local/lib/python3.7/dist-packages (from tensorflow>=2.7.0->learned-optimization==0.0.1) (13.0.0)\n",
            "Requirement already satisfied: cached-property in /usr/local/lib/python3.7/dist-packages (from h5py>=2.9.0->tensorflow>=2.7.0->learned-optimization==0.0.1) (1.5.2)\n",
            "Requirement already satisfied: importlib-resources in /usr/local/lib/python3.7/dist-packages (from tensorflow-datasets>=4.4.0->learned-optimization==0.0.1) (5.4.0)\n",
            "Requirement already satisfied: promise in /usr/local/lib/python3.7/dist-packages (from tensorflow-datasets>=4.4.0->learned-optimization==0.0.1) (2.3)\n",
            "Requirement already satisfied: dill in /usr/local/lib/python3.7/dist-packages (from tensorflow-datasets>=4.4.0->learned-optimization==0.0.1) (0.3.4)\n",
            "Requirement already satisfied: pyparsing!=2.0.4,!=2.1.2,!=2.1.6,>=2.0.1 in /usr/local/lib/python3.7/dist-packages (from matplotlib->flax==0.3.3->learned-optimization==0.0.1) (3.0.7)\n",
            "Requirement already satisfied: kiwisolver>=1.0.1 in /usr/local/lib/python3.7/dist-packages (from matplotlib->flax==0.3.3->learned-optimization==0.0.1) (1.4.0)\n",
            "Requirement already satisfied: python-dateutil>=2.1 in /usr/local/lib/python3.7/dist-packages (from matplotlib->flax==0.3.3->learned-optimization==0.0.1) (2.8.2)\n",
            "Requirement already satisfied: cycler>=0.10 in /usr/local/lib/python3.7/dist-packages (from matplotlib->flax==0.3.3->learned-optimization==0.0.1) (0.11.0)\n",
            "Building wheels for collected packages: learned-optimization\n",
            "  Building wheel for learned-optimization (setup.py) ... \u001b[?25l\u001b[?25hdone\n",
            "  Created wheel for learned-optimization: filename=learned_optimization-0.0.1-py3-none-any.whl size=283072 sha256=512835052c7bed08f5e617723587ec6c301d17515268c52200f03ce0bd065581\n",
            "  Stored in directory: /tmp/pip-ephem-wheel-cache-68gntsvo/wheels/56/23/36/7a65e02fddaf71574a41e4ed9c8bd596ff2ebc35ecef5a93c5\n",
            "Successfully built learned-optimization\n",
            "Installing collected packages: absl-py, tf-estimator-nightly, tensorflow-metadata, mock, jmp, chex, tensorflow-datasets, optax, nose, flax, dm-launchpad-nightly, dm-haiku, learned-optimization\n",
            "  Attempting uninstall: absl-py\n",
            "    Found existing installation: absl-py 1.0.0\n",
            "    Uninstalling absl-py-1.0.0:\n",
            "      Successfully uninstalled absl-py-1.0.0\n",
            "  Attempting uninstall: tensorflow-metadata\n",
            "    Found existing installation: tensorflow-metadata 1.7.0\n",
            "    Uninstalling tensorflow-metadata-1.7.0:\n",
            "      Successfully uninstalled tensorflow-metadata-1.7.0\n",
            "  Attempting uninstall: tensorflow-datasets\n",
            "    Found existing installation: tensorflow-datasets 4.0.1\n",
            "    Uninstalling tensorflow-datasets-4.0.1:\n",
            "      Successfully uninstalled tensorflow-datasets-4.0.1\n",
            "Successfully installed absl-py-0.12.0 chex-0.1.1 dm-haiku-0.0.5 dm-launchpad-nightly-0.3.0.dev20211105 flax-0.3.3 jmp-0.0.2 learned-optimization-0.0.1 mock-4.0.3 nose-1.3.7 optax-0.1.1 tensorflow-datasets-4.5.2 tensorflow-metadata-1.5.0 tf-estimator-nightly-2.8.0.dev2021122109\n"
          ]
        }
      ]
    },
    {
      "cell_type": "code",
      "execution_count": 2,
      "metadata": {
        "id": "9Yi6UGkZ-LqP"
      },
      "outputs": [],
      "source": [
        "import seaborn as sns\n",
        "import numpy as onp\n",
        "import matplotlib.pyplot as plt\n",
        "import functools\n"
      ]
    },
    {
      "cell_type": "code",
      "source": [
        "import numpy as np\n",
        "import jax.numpy as jnp\n",
        "import jax\n",
        "from matplotlib import pylab as plt\n",
        "\n",
        "from learned_optimization.outer_trainers import full_es\n",
        "from learned_optimization.outer_trainers import truncated_pes\n",
        "from learned_optimization.outer_trainers import gradient_learner\n",
        "from learned_optimization.outer_trainers import truncation_schedule\n",
        "\n",
        "from learned_optimization.tasks import quadratics\n",
        "from learned_optimization.tasks.fixed import image_mlp\n",
        "from learned_optimization.tasks import base as tasks_base\n",
        "from learned_optimization.tasks.datasets import base as datasets_base\n",
        "from learned_optimization.tasks.datasets import image\n",
        "\n",
        "from learned_optimization.learned_optimizers import base as lopt_base\n",
        "from learned_optimization.learned_optimizers import mlp_lopt\n",
        "from learned_optimization.optimizers import base as opt_base\n",
        "\n",
        "from learned_optimization import optimizers\n",
        "from learned_optimization import eval_training\n",
        "\n",
        "import haiku as hk\n",
        "import tqdm"
      ],
      "metadata": {
        "colab": {
          "base_uri": "https://localhost:8080/"
        },
        "id": "re_aP1wT-Zaa",
        "outputId": "fbbddc5b-b9dc-4dbc-910c-ba03473f2324"
      },
      "execution_count": 3,
      "outputs": [
        {
          "output_type": "stream",
          "name": "stderr",
          "text": [
            "ERROR:absl:Oryx not found! This library will still work but no summarywill be logged.\n"
          ]
        }
      ]
    },
    {
      "cell_type": "code",
      "source": [
        "class LogMnistRelu32x32(tasks_base.Task):\n",
        "  def __init__(self):\n",
        "  \n",
        "    def _forward(inp):\n",
        "      inp = jnp.reshape(inp, [inp.shape[0], -1])\n",
        "      return hk.nets.MLP([32, 32, 10])(inp)\n",
        "  \n",
        "    self.net = hk.without_apply_rng(hk.transform(_forward))\n",
        "\n",
        "    batch_size = 128\n",
        "    self.datasets = image.mnist_datasets(batch_size)\n",
        "\n",
        "  def init(self, rng):\n",
        "    batch = next(self.datasets.train)\n",
        "    return self.net.init(rng, batch[\"image\"])\n",
        "\n",
        "  def loss(self, params, rng, data):\n",
        "    image = data[\"image\"]\n",
        "    logits = self.net.apply(params, image)\n",
        "    labels = jax.nn.one_hot(data[\"label\"], 10)\n",
        "    vec_loss = tasks_base.softmax_cross_entropy(logits=logits, labels=labels)\n",
        "    return jnp.log(jnp.mean(vec_loss))\n"
      ],
      "metadata": {
        "id": "EXgvmRJ9GHsU"
      },
      "execution_count": 4,
      "outputs": []
    },
    {
      "cell_type": "code",
      "source": [
        "#task = image_mlp.ImageMLP_FashionMnist8_Relu32()\n",
        "task = LogMnistRelu32x32()\n",
        "key = jax.random.PRNGKey(0)\n",
        "\n",
        "\n",
        "lopt = mlp_lopt.MLPLOpt()\n",
        "params = lopt.init(key)\n",
        "\n",
        "\n",
        "data = next(task.datasets.train)\n",
        "\n",
        "@functools.partial(jax.jit, static_argnames=(\"steps\", \"add_noise\"))\n",
        "def eval_reward(params, rng, steps=100, add_noise=True):\n",
        "  if add_noise:\n",
        "    flat_p, struct = jax.tree_flatten(params)\n",
        "    outs = []\n",
        "    for i,p in enumerate(flat_p):\n",
        "      rng, key1 = jax.random.split(rng)\n",
        "      outs.append(jax.random.normal(key1, shape=p.shape) * 0.01 + p)\n",
        "    params = struct.unflatten(outs)\n",
        "\n",
        "  p = task.init(key)\n",
        "\n",
        "  opt = lopt.opt_fn(params)\n",
        "  opt_state = opt.init(p, num_steps=10000)\n",
        "\n",
        "  @jax.checkpoint\n",
        "  def advance_state(opt_state, i):\n",
        "    p = opt.get_params(opt_state)\n",
        "    key1 = jax.random.fold_in(rng, i)\n",
        "    key1, key2 = jax.random.split(key1)\n",
        "    loss, grad = jax.value_and_grad(task.loss)(p, key1, data)\n",
        "    opt_state = opt.update(opt_state, loss=loss, grad=grad, key=key2)\n",
        "    return opt_state, loss\n",
        "  \n",
        "  final_state, rews = jax.lax.scan(advance_state, opt_state, jnp.arange(steps))\n",
        "  return jnp.mean(rews)"
      ],
      "metadata": {
        "colab": {
          "base_uri": "https://localhost:8080/",
          "height": 118,
          "referenced_widgets": [
            "fb1318f685fa434cbd6a3eee8236f489",
            "24b6b2ab0c784e56a5461239c8888c18",
            "1885467e90814cd9a744afb6e346e32a",
            "0fd8007986af4ade8fe068905ac37dd9",
            "f240c6b4be7c44a9b72a253f61e987dc",
            "0b189b77614d47e0b4bef127db76761f",
            "d5e393ff5c2d456593292f7b86e09d52",
            "61b0413ffc1f4e478a72a75e665a27cf",
            "babc2481eb9c4b4996a040ec1a2b1a78",
            "781d4431f1df4b74b5e1774193ab1ef9",
            "0302e328b9d44e48b532e48b9fd18a87"
          ]
        },
        "id": "8zP7CH6m-aJf",
        "outputId": "4f5d390e-9f6a-46c1-b478-7af0d44a6def"
      },
      "execution_count": 5,
      "outputs": [
        {
          "output_type": "stream",
          "name": "stdout",
          "text": [
            "\u001b[1mDownloading and preparing dataset 11.06 MiB (download: 11.06 MiB, generated: 21.00 MiB, total: 32.06 MiB) to /root/tensorflow_datasets/mnist/3.0.1...\u001b[0m\n"
          ]
        },
        {
          "output_type": "display_data",
          "data": {
            "text/plain": [
              "Dl Completed...:   0%|          | 0/4 [00:00<?, ? file/s]"
            ],
            "application/vnd.jupyter.widget-view+json": {
              "version_major": 2,
              "version_minor": 0,
              "model_id": "fb1318f685fa434cbd6a3eee8236f489"
            }
          },
          "metadata": {}
        },
        {
          "output_type": "stream",
          "name": "stdout",
          "text": [
            "\u001b[1mDataset mnist downloaded and prepared to /root/tensorflow_datasets/mnist/3.0.1. Subsequent calls will reuse this data.\u001b[0m\n",
            "WARNING:tensorflow:Mapping types may not work well with tf.nest. Prefer using MutableMapping for <class 'haiku._src.data_structures.FlatMap'>\n"
          ]
        },
        {
          "output_type": "stream",
          "name": "stderr",
          "text": [
            "WARNING:tensorflow:Mapping types may not work well with tf.nest. Prefer using MutableMapping for <class 'haiku._src.data_structures.FlatMap'>\n"
          ]
        }
      ]
    },
    {
      "cell_type": "code",
      "source": [
        "jax.tree_map(lambda x: x.shape, params)"
      ],
      "metadata": {
        "colab": {
          "base_uri": "https://localhost:8080/"
        },
        "id": "QV9GkNKG_L60",
        "outputId": "d434d821-3bf3-44eb-a145-b52a1272d3da"
      },
      "execution_count": 6,
      "outputs": [
        {
          "output_type": "execute_result",
          "data": {
            "text/plain": [
              "FlatMap({\n",
              "  'mlp/~/linear_0': FlatMap({'b': (32,), 'w': (19, 32)}),\n",
              "  'mlp/~/linear_1': FlatMap({'b': (32,), 'w': (32, 32)}),\n",
              "  'mlp/~/linear_2': FlatMap({'b': (2,), 'w': (32, 2)}),\n",
              "})"
            ]
          },
          "metadata": {},
          "execution_count": 6
        }
      ]
    },
    {
      "cell_type": "code",
      "source": [
        "jv_eval_reward = jax.jit(jax.vmap(eval_reward, in_axes=[None, 0]))\n",
        "v_key = jax.random.split(jax.random.PRNGKey(0), 128)\n",
        "# out = jv_eval_reward(params, v_key)"
      ],
      "metadata": {
        "id": "nzpbUuFK-uiZ"
      },
      "execution_count": 7,
      "outputs": []
    },
    {
      "cell_type": "code",
      "source": [
        "def interpolate_loss(params, direction, key, steps, ts):\n",
        "  params = jax.tree_map(lambda x, d: x+d*ts, params, direction)\n",
        "  return eval_reward(params, key, steps=steps)\n",
        "\n",
        "@functools.partial(jax.jit, static_argnames=(\"steps\",))\n",
        "def vmap_interp(params, direction, ts, key, steps=10):\n",
        "  #return jax.vmap(jax.partial(interpolate_loss, steps=steps), in_axes=(None, None, 0, None))(params, direction, ts, key)\n",
        "  #return jax.vmap(jax.partial(interpolate_loss, steps=steps,), in_axes=(None, None, 0, None))(params, direction, ts, key)\n",
        "  fn = functools.partial(interpolate_loss, params, direction, key, steps)\n",
        "  # return jax.lax.map(fn, ts)\n",
        "  ts = jnp.reshape(ts, [-1, 16])\n",
        "  out = jax.lax.map(jax.vmap(fn), ts)\n",
        "  return jnp.reshape(out, [-1])\n",
        "\n",
        "# key = jax.random.PRNGKey(0)\n",
        "# out = vmap_interp(params, params, jnp.linspace(-0.01, 0.01, 1280), key)\n",
        "# print(out.shape)\n",
        "# out.block_host_until_ready()"
      ],
      "metadata": {
        "id": "QrpohutW-3IU"
      },
      "execution_count": 8,
      "outputs": []
    },
    {
      "cell_type": "code",
      "source": [
        "def interpolate_grad_along_direction(params, direction, key, steps, ts):\n",
        "  def fn(ts):\n",
        "    p= jax.tree_map(lambda x, d: x+d*ts, params, direction)\n",
        "    return eval_reward(p, key, steps=steps)\n",
        "  return jax.grad(fn)(ts)\n",
        "\n",
        "\n",
        "@functools.partial(jax.jit, static_argnames=(\"steps\",))\n",
        "def vmap_interp_grad(params, direction, ts, key, steps=10):\n",
        "  #return jax.vmap(jax.partial(interpolate_grad_along_direction, steps=steps), in_axes=(None, None, 0, None))(params, direction, ts, key)\n",
        "  fn = functools.partial(interpolate_grad_along_direction, params, direction, key, steps)\n",
        "  return jax.lax.map(fn, ts)\n",
        "  #return jax.vmap(, in_axes=(None, None, 0, None))(params, direction, ts, key)\n",
        "\n",
        "# key = jax.random.PRNGKey(0)\n",
        "# out = vmap_interp_grad(params, params, jnp.linspace(-0.01, 0.01, 10), key)"
      ],
      "metadata": {
        "id": "a9hSwVPrAGc9"
      },
      "execution_count": 9,
      "outputs": []
    },
    {
      "cell_type": "code",
      "source": [
        "@functools.partial(jax.jit, static_argnames=(\"steps\", \"add_noise\"))\n",
        "def jvg_eval_reward(params, keys, steps=5, add_noise=True):\n",
        "  return jax.vmap(jax.grad(functools.partial(eval_reward, steps=steps, add_noise=add_noise),\n",
        "                           0), in_axes=[None, 0])(params, keys)\n",
        "\n",
        "keys = jax.random.split(jax.random.PRNGKey(0), 16)\n",
        "#grads = jvg_eval_reward(params, keys)"
      ],
      "metadata": {
        "id": "9V0URVj3Af1f"
      },
      "execution_count": 10,
      "outputs": []
    },
    {
      "cell_type": "code",
      "source": [
        "def tree_normalize(xx):\n",
        "  sum_squares = sum(jax.tree_leaves(jax.tree_map(lambda x: jnp.sum(jnp.square(x)), xx)))\n",
        "  sum_params = sum(jax.tree_leaves(jax.tree_map(lambda x: onp.prod(x.shape), xx)))\n",
        "  norm = jnp.sqrt(sum_squares) / sum_params\n",
        "  return jax.tree_map(lambda x: x/norm, xx)\n"
      ],
      "metadata": {
        "id": "aSbb_0_rAlIv"
      },
      "execution_count": 11,
      "outputs": []
    },
    {
      "cell_type": "code",
      "metadata": {
        "id": "zhe493DjN_JI"
      },
      "source": [
        "onp.random.seed(189)\n",
        "\n",
        "key = jax.random.PRNGKey(0)\n",
        "params = lopt.init(jax.random.PRNGKey(2))\n",
        "\n",
        "onp.random.seed(21)\n",
        "rand = jax.tree_map(lambda x: onp.random.normal(size=x.shape), params)\n",
        "direction = tree_normalize(rand)"
      ],
      "execution_count": 12,
      "outputs": []
    },
    {
      "cell_type": "code",
      "metadata": {
        "id": "y4CV_IBq8GmX",
        "outputId": "a8b2eb8d-8095-443d-bd8e-6ce43826915d",
        "colab": {
          "base_uri": "https://localhost:8080/"
        }
      },
      "source": [
        "xs = jnp.linspace(-0.01, 0.01, 1024)\n",
        "#xs = jnp.linspace(-0.01, 0.01, 128)\n",
        "#steps = [8, 32, 128, 256, 512, 1024]\n",
        "steps = [128,]\n",
        "k = 1\n",
        "key = jax.random.PRNGKey(k)\n",
        "first_outs = []\n",
        "for si, step in enumerate(steps):\n",
        "  print(step)\n",
        "  out = vmap_interp(params, direction, xs, key, steps=step)\n",
        "  out = onp.asarray(out)\n",
        "  first_outs.append(out)\n"
      ],
      "execution_count": 13,
      "outputs": [
        {
          "output_type": "stream",
          "name": "stdout",
          "text": [
            "128\n"
          ]
        }
      ]
    },
    {
      "cell_type": "code",
      "source": [
        "xs = jnp.linspace(-0.01, 0.01, 1024)\n",
        "#steps = [8, 32, 128]#, 256]#, 512, 1024]\n",
        "steps = [128]\n",
        "\n",
        "cat_color = sns.palettes.color_palette(n_colors=10)\n",
        "colors = sns.palettes.color_palette(n_colors=10)\n",
        "\n",
        "fig, ax = plt.subplots(figsize=(6, 4))\n",
        "for si, step in enumerate(steps):\n",
        "  out = first_outs[si]\n",
        "  ax.plot(xs, out, label=f\"{step} steps\", color=colors[si], zorder=10-si-100)\n",
        "  #ax.semilogy(xs, out, label=f\"{step} steps\", color=colors[si], zorder=10-si)\n",
        "\n",
        "ax.legend(loc=\"lower left\", fontsize=13, framealpha=0.9)\n",
        "ax.set_xlabel(\"shift along direction\", fontsize=13)\n",
        "ax.set_ylabel(\"mean loss\", fontsize=13)\n",
        "ax.set_title(\"Single Parameter Value\", fontsize=13)\n",
        "\n",
        "#ax.set_ylim(0.5, 5.0)\n",
        "ax.axvline(x=0.0, color=cat_color[0], linestyle=\"--\", lw=2)\n",
        "ax.axvline(x=0.002, color=cat_color[1], linestyle=\"--\", lw=2)\n",
        "ax.axvline(x=0.005, color=cat_color[2], linestyle=\"--\", lw=2)\n",
        "ax.axvline(x=0.008, color=cat_color[3], linestyle=\"--\", lw=2)\n",
        "ax.set_xticks([-0.01, -0.005, 0.0, 0.005, 0.01])\n",
        "ax.set_ylim(-2.5, 8)"
      ],
      "metadata": {
        "colab": {
          "base_uri": "https://localhost:8080/",
          "height": 315
        },
        "id": "uaM3odu6AuMz",
        "outputId": "6dcde9ae-7dd3-4a4d-dadf-538e2e4f188f"
      },
      "execution_count": 14,
      "outputs": [
        {
          "output_type": "execute_result",
          "data": {
            "text/plain": [
              "(-2.5, 8.0)"
            ]
          },
          "metadata": {},
          "execution_count": 14
        },
        {
          "output_type": "display_data",
          "data": {
            "text/plain": [
              "<Figure size 432x288 with 1 Axes>"
            ],
            "image/png": "[encoded data removed]"
          },
          "metadata": {
            "needs_background": "light"
          }
        }
      ]
    }
  ]
}
